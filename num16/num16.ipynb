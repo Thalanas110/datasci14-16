{
 "cells": [
  {
   "cell_type": "markdown",
   "id": "5d250288",
   "metadata": {},
   "source": [
    "Exercise 208"
   ]
  },
  {
   "cell_type": "code",
   "execution_count": null,
   "id": "6b3a5b24",
   "metadata": {},
   "outputs": [],
   "source": [
    "import pandas as pd\n",
    "import matplotlib.pyplot as plt\n",
    "sales_data=pd.read_csv(\"company_sales_data.csv\")\n",
    "sales_data.head()"
   ]
  },
  {
   "cell_type": "code",
   "execution_count": null,
   "id": "ba919075",
   "metadata": {},
   "outputs": [],
   "source": [
    "import numpy as np"
   ]
  },
  {
   "cell_type": "code",
   "execution_count": null,
   "id": "9782004f",
   "metadata": {},
   "outputs": [],
   "source": [
    "monthList=sales_data[\"month_number\"].tolist()\n",
    "profitList=np.arange(100000,500000,50000).tolist()"
   ]
  },
  {
   "cell_type": "code",
   "execution_count": null,
   "id": "2513ec9c",
   "metadata": {},
   "outputs": [],
   "source": [
    "plt.plot(\"month_number\",\"total_profit\",data=sales_data)\n",
    "plt.xlabel(\"Month Number\")\n",
    "plt.xticks(monthList)\n",
    "plt.yticks(profitList)\n",
    "plt.ylabel(\"Total profit\")\n",
    "plt.title(\"COMPANY PROFIT PER MONTH\")\n",
    "plt.show()"
   ]
  },
  {
   "cell_type": "markdown",
   "id": "b6ed5e64",
   "metadata": {},
   "source": [
    "Exercise 209"
   ]
  },
  {
   "cell_type": "code",
   "execution_count": null,
   "id": "448bb1e0",
   "metadata": {},
   "outputs": [],
   "source": [
    "plt.plot(\"month_number\",\"total_profit\",data=sales_data,color=\"red\", marker='o',\n",
    "markerfacecolor='black', linestyle = '--', linewidth=2, markersize=6)\n",
    "plt.xlabel(\"Month Number\")\n",
    "plt.xticks(monthList)\n",
    "plt.ylabel(\"Total Profit\")\n",
    "plt.yticks(profitList)\n",
    "plt.legend(loc=\"upper left\")\n",
    "plt.title(\"COMPANY SALES FOR LAST YEAR\")\n",
    "plt.show()"
   ]
  },
  {
   "cell_type": "markdown",
   "id": "a9f419b2",
   "metadata": {},
   "source": [
    "Exercise 210"
   ]
  },
  {
   "cell_type": "code",
   "execution_count": null,
   "id": "bfdc01c4",
   "metadata": {},
   "outputs": [],
   "source": [
    "quantityList=np.arange(1000,20000,2000)"
   ]
  },
  {
   "cell_type": "code",
   "execution_count": null,
   "id": "561a06d5",
   "metadata": {},
   "outputs": [],
   "source": [
    "plt.plot(\"month_number\",\"facecream\",data=sales_data,marker=\"o\")\n",
    "plt.plot(\"month_number\",\"facewash\",data=sales_data,marker=\"o\")\n",
    "plt.plot(\"month_number\",\"toothpaste\",data=sales_data,marker=\"o\")\n",
    "plt.plot(\"month_number\",\"bathingsoap\",data=sales_data,marker=\"o\")\n",
    "plt.plot(\"month_number\",\"shampoo\",data=sales_data,marker=\"o\")\n",
    "plt.plot(\"month_number\",\"moisturizer\",data=sales_data,marker=\"o\")\n",
    "plt.xticks(monthList)\n",
    "plt.xlabel(\"Month Number\")\n",
    "plt.yticks(quantityList)\n",
    "\n",
    "plt.ylabel(\"Sales of product in number of units\")\n",
    "plt.legend(loc=\"upper left\")\n",
    "plt.show()"
   ]
  },
  {
   "cell_type": "markdown",
   "id": "0e5fcec7",
   "metadata": {},
   "source": [
    "Exercise 211"
   ]
  },
  {
   "cell_type": "code",
   "execution_count": null,
   "id": "205d398c",
   "metadata": {},
   "outputs": [],
   "source": [
    "plt.scatter(\"month_number\",\"toothpaste\",data=sales_data)\n",
    "plt.legend(loc=\"upper left\")\n",
    "plt.grid(color='r', linestyle='dashed', linewidth=0.5)\n",
    "plt.xlabel(\"Month Number\")\n",
    "plt.ylabel(\"Quantity Sales\")\n",
    "plt.show()"
   ]
  },
  {
   "cell_type": "markdown",
   "id": "e5c3d164",
   "metadata": {},
   "source": [
    "Exercise 212"
   ]
  },
  {
   "cell_type": "code",
   "execution_count": null,
   "id": "c1ab24d9",
   "metadata": {},
   "outputs": [],
   "source": [
    "plt.bar([a-0.25 for a in monthList],\"facecream\",data=sales_data,width=0.25,align=\"edge\")\n",
    "plt.bar([a+0.25 for a in monthList],\"facewash\",data=sales_data,width=-0.25,align=\"edge\")\n",
    "plt.xticks(monthList)\n",
    "plt.xlabel(\"Month Number\")\n",
    "plt.ylabel(\"Quantity Sales\")\n",
    "plt.legend()\n",
    "plt.grid(color='r', linestyle='dashed', linewidth=0.5)\n",
    "plt.show()"
   ]
  },
  {
   "cell_type": "markdown",
   "id": "f326b652",
   "metadata": {},
   "source": [
    "Exercise 213"
   ]
  },
  {
   "cell_type": "code",
   "execution_count": null,
   "id": "bbaa4fb4",
   "metadata": {},
   "outputs": [],
   "source": [
    "plt.bar(\"month_number\",\"total_units\",data=sales_data)\n",
    "plt.grid(True,linestyle=\"dashed\")\n",
    "plt.xticks(monthList)\n",
    "plt.xlabel(\"Month Number\")\n",
    "plt.ylabel(\"Sales units in numbers\")\n",
    "plt.title(\"Bathing Soap Sales Data\")\n",
    "plt.show()"
   ]
  },
  {
   "cell_type": "markdown",
   "id": "2487f62f",
   "metadata": {},
   "source": [
    "Exercise 214"
   ]
  },
  {
   "cell_type": "code",
   "execution_count": null,
   "id": "6ba27e56",
   "metadata": {},
   "outputs": [],
   "source": [
    "profitList = sales_data['total_profit'].tolist()"
   ]
  },
  {
   "cell_type": "code",
   "execution_count": null,
   "id": "21c1ed9f",
   "metadata": {},
   "outputs": [],
   "source": [
    "profit_range=np.arange(150000,350000,25000)"
   ]
  },
  {
   "cell_type": "code",
   "execution_count": null,
   "id": "243e3534",
   "metadata": {},
   "outputs": [],
   "source": [
    "plt.hist(profitList,profit_range,label=\"max profit range\")\n",
    "plt.legend()\n",
    "plt.show()"
   ]
  },
  {
   "cell_type": "markdown",
   "id": "f7c875c0",
   "metadata": {},
   "source": [
    "random exercise 8"
   ]
  },
  {
   "cell_type": "code",
   "execution_count": null,
   "id": "78c8490e",
   "metadata": {},
   "outputs": [],
   "source": [
    "sales_data.head(2)"
   ]
  },
  {
   "cell_type": "code",
   "execution_count": null,
   "id": "e971d988",
   "metadata": {},
   "outputs": [],
   "source": [
    "saleData = [sales_data ['facecream'].sum(), sales_data ['facewash'].sum(), sales_data ['toothpaste'].sum(),\n",
    "sales_data ['bathingsoap'].sum(), sales_data ['shampoo'].sum(),sales_data ['moisturizer'].sum()]\n",
    "print(saleData)"
   ]
  },
  {
   "cell_type": "code",
   "execution_count": null,
   "id": "588d3023",
   "metadata": {},
   "outputs": [],
   "source": [
    "labels = ['Face Cream', 'Face Wash', 'ToothPaste', 'Bathing Soap', 'Shampoo', 'Moisturizer']"
   ]
  },
  {
   "cell_type": "code",
   "execution_count": null,
   "id": "bdd0a470",
   "metadata": {},
   "outputs": [],
   "source": [
    "plt.pie(saleData,autopct=\"%1.1f%%\",labels=labels)\n",
    "plt.legend()\n",
    "plt.show()"
   ]
  },
  {
   "cell_type": "markdown",
   "id": "5b3d37aa",
   "metadata": {},
   "source": [
    "Exercise 215"
   ]
  },
  {
   "cell_type": "code",
   "execution_count": null,
   "id": "cb7b6f07",
   "metadata": {},
   "outputs": [],
   "source": [
    "plt.subplot(2,1,1)\n",
    "plt.plot(\"month_number\",\"bathingsoap\",data=sales_data,color=\"black\",marker=\"o\")\n",
    "plt.title(\"Sales Data of Bathing Soap\")\n",
    "plt.subplot(2,1,2)\n",
    "plt.plot(\"month_number\",\"facewash\",data=sales_data,color=\"red\",marker=\"o\")\n",
    "plt.xlabel(\"Month Number\")\n",
    "\n",
    "plt.title(\"Sales Data of Facewash\")\n",
    "plt.ylabel(\"Sales Units in Numbers\")\n",
    "plt.subplots_adjust(bottom=0.1,wspace=0.4,hspace=0.3)\n",
    "plt.show()"
   ]
  }
 ],
 "metadata": {
  "language_info": {
   "name": "python"
  }
 },
 "nbformat": 4,
 "nbformat_minor": 5
}
