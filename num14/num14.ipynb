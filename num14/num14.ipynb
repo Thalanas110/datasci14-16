{
 "cells": [
  {
   "cell_type": "markdown",
   "id": "983401ef",
   "metadata": {},
   "source": [
    "Exercise 189"
   ]
  },
  {
   "cell_type": "code",
   "execution_count": null,
   "id": "6aba9d6c",
   "metadata": {},
   "outputs": [],
   "source": [
    "import numpy as np\n",
    "x=[[1,2,3],[4,5,6],[7,8,9]]\n",
    "y=np.asarray(x)\n",
    "print(y)\n",
    "y.max()"
   ]
  },
  {
   "cell_type": "code",
   "execution_count": null,
   "id": "846a4d77",
   "metadata": {},
   "outputs": [],
   "source": [
    "# hahahahahaha\n",
    "import numpy as np\n",
    "x = [[1, 2, 3], [4, 5, 6], [7, 8, 20]]\n",
    "y = np.asarray(x)\n",
    "print(y)\n",
    "print(y.max())"
   ]
  },
  {
   "cell_type": "markdown",
   "id": "02db62bc",
   "metadata": {},
   "source": [
    "Exercise 190"
   ]
  },
  {
   "cell_type": "code",
   "execution_count": null,
   "id": "5593038f",
   "metadata": {},
   "outputs": [],
   "source": [
    "import numpy as np \n",
    "\n",
    "firstArray = np.empty([4,2], dtype = np.uint16) \n",
    "print(firstArray) \n",
    "print(\"shape of the array is: \",firstArray.shape) \n",
    "print(\"dimension of the array is: \",firstArray.ndim) \n",
    "print(\"itemsize of each element in array is:\",firstArray.itemsize) "
   ]
  },
  {
   "cell_type": "markdown",
   "id": "608dc5fb",
   "metadata": {},
   "source": [
    "Exercise 191"
   ]
  },
  {
   "cell_type": "code",
   "execution_count": null,
   "id": "a3d41a20",
   "metadata": {},
   "outputs": [],
   "source": [
    "my_array=np.arange(100,200,10)\n",
    "my_array=my_array.reshape(5,2)\n",
    "print(my_array)"
   ]
  },
  {
   "cell_type": "markdown",
   "id": "bcb6c34f",
   "metadata": {},
   "source": [
    "Exercise 192"
   ]
  },
  {
   "cell_type": "code",
   "execution_count": null,
   "id": "901b1c07",
   "metadata": {},
   "outputs": [],
   "source": [
    "sampleArray = np.array([[11 ,22, 33], [44, 55, 66], [77, 88, 99]]) \n",
    "#print(sampleArray) \n",
    "new_array=sampleArray[...,2] \n",
    "print(new_array) "
   ]
  },
  {
   "cell_type": "markdown",
   "id": "732fde38",
   "metadata": {},
   "source": [
    "Exercise 193"
   ]
  },
  {
   "cell_type": "code",
   "execution_count": null,
   "id": "f14e005f",
   "metadata": {},
   "outputs": [],
   "source": [
    "sampleArray = np.array([[3 ,6, 9, 12], [15 ,18, 21, 24], \n",
    "[27 ,30, 33, 36], [39 ,42, 45, 48], [51 ,54, 57, 60]]) \n",
    "print(sampleArray) "
   ]
  },
  {
   "cell_type": "code",
   "execution_count": null,
   "id": "ffb3fd98",
   "metadata": {},
   "outputs": [],
   "source": [
    "new_array=sampleArray[::2,1::2] \n",
    "print(new_array) "
   ]
  },
  {
   "cell_type": "markdown",
   "id": "d48abcdd",
   "metadata": {},
   "source": [
    "Exercise 194"
   ]
  },
  {
   "cell_type": "code",
   "execution_count": null,
   "id": "87d8a05e",
   "metadata": {},
   "outputs": [],
   "source": [
    "arrayOne = np.array([[5, 6, 9], [21 ,18, 27]]) \n",
    "arrayTwo = np.array([[15 ,33, 24], [4 ,7, 1]]) \n",
    "#print(arrayOne) \n",
    "#print(arrayTwo) \n",
    "result_array=arrayOne+arrayTwo \n",
    "print(result_array) \n",
    "final_output=pow(result_array,2) \n",
    "print(final_output)"
   ]
  },
  {
   "cell_type": "markdown",
   "id": "ec885e63",
   "metadata": {},
   "source": [
    "Exercise 195"
   ]
  },
  {
   "cell_type": "code",
   "execution_count": null,
   "id": "a14b7072",
   "metadata": {},
   "outputs": [],
   "source": [
    "new_array=np.arange(10,34,1) \n",
    "new_array=new_array.reshape(8,3) \n",
    "print(new_array) \n",
    "# now to divide array into 4 equal division \n",
    "subarray=np.split(new_array,4) \n",
    "print(\"=\"*100) \n",
    "print(subarray)"
   ]
  },
  {
   "cell_type": "markdown",
   "id": "1448e1f2",
   "metadata": {},
   "source": [
    "Exercise 196"
   ]
  },
  {
   "cell_type": "code",
   "execution_count": null,
   "id": "59cd35fd",
   "metadata": {},
   "outputs": [],
   "source": [
    "sampleArray = np.array([[34,43,73],[82,22,12],[53,94,66]]) \n",
    "print(sampleArray) \n",
    "#sorting original array by second row \n",
    "sortArrayByRow = sampleArray[:,sampleArray[1,:].argsort()] \n",
    "print(\"Sorting Original array by secoond row\") \n",
    "print(sortArrayByRow) \n",
    "print(\"Sorting Original array by second column\") \n",
    "sortArrayByColumn = sampleArray[sampleArray[:,1].argsort()] \n",
    "print(sortArrayByColumn) "
   ]
  },
  {
   "cell_type": "markdown",
   "id": "88b001ef",
   "metadata": {},
   "source": [
    "Exercise 197"
   ]
  },
  {
   "cell_type": "code",
   "execution_count": null,
   "id": "086594dd",
   "metadata": {},
   "outputs": [],
   "source": [
    "import numpy \n",
    "print(\"Printing Original array\") \n",
    "sampleArray = numpy.array([[34,43,73],[82,22,12],[53,94,66]]) \n",
    "print (sampleArray) \n",
    "minOfAxisOne = numpy.amin(sampleArray, 1) \n",
    "print(\"Printing amin Of Axis 1\") \n",
    "print(minOfAxisOne) \n",
    "maxOfAxisOne = numpy.amax(sampleArray, 0) \n",
    "print(\"Printing amax Of Axis 0\") \n",
    "print(maxOfAxisOne) "
   ]
  },
  {
   "cell_type": "markdown",
   "id": "a96f96d8",
   "metadata": {},
   "source": [
    "Exercise 198"
   ]
  },
  {
   "cell_type": "code",
   "execution_count": null,
   "id": "88fb6ac4",
   "metadata": {},
   "outputs": [],
   "source": [
    "import numpy \n",
    "print(\"Printing Original array\") \n",
    "sampleArray = numpy.array([[34,43,73],[82,22,12],[53,94,66]]) \n",
    "print (sampleArray) \n",
    "print(\"Array after deleting column 2 on axis 1\") \n",
    "sampleArray = numpy.delete(sampleArray , 1, axis = 1) \n",
    "print (sampleArray) \n",
    "arr = numpy.array([[10,10,10]]) \n",
    "print(\"Array after inserting column 2 on axis 1\") \n",
    "sampleArray = numpy.insert(sampleArray , 1, arr, axis = 1) \n",
    "print (sampleArray)"
   ]
  },
  {
   "cell_type": "markdown",
   "id": "4cb781bb",
   "metadata": {},
   "source": []
  }
 ],
 "metadata": {
  "language_info": {
   "name": "python"
  }
 },
 "nbformat": 4,
 "nbformat_minor": 5
}
