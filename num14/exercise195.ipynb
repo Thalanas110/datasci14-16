{
 "cells": [
  {
   "cell_type": "code",
   "execution_count": null,
   "id": "85e6fabb",
   "metadata": {
    "vscode": {
     "languageId": "plaintext"
    }
   },
   "outputs": [],
   "source": [
    "import numpy as np\n",
    "\n",
    "new_array=np.arange(10,34,1)\n",
    "new_array=new_array.reshape(8,3)\n",
    "print(new_array)\n",
    "# now to divide array into 4 equal division\n",
    "subarray=np.split(new_array,4)\n",
    "print(\"=\"*100)\n",
    "print(subarray)"
   ]
  }
 ],
 "metadata": {
  "language_info": {
   "name": "python"
  }
 },
 "nbformat": 4,
 "nbformat_minor": 5
}
