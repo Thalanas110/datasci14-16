{
 "cells": [
  {
   "cell_type": "code",
   "execution_count": null,
   "id": "192e6e30",
   "metadata": {
    "vscode": {
     "languageId": "plaintext"
    }
   },
   "outputs": [],
   "source": [
    "import numpy as np\n",
    "\n",
    "x=[[1,2,3],[4,5,6],[7,8,9]]\n",
    "y=np.asarray(x)\n",
    "print(y)\n",
    "y.max()"
   ]
  }
 ],
 "metadata": {
  "language_info": {
   "name": "python"
  }
 },
 "nbformat": 4,
 "nbformat_minor": 5
}
