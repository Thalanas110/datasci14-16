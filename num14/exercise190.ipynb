{
 "cells": [
  {
   "cell_type": "code",
   "execution_count": null,
   "id": "251e7025",
   "metadata": {
    "vscode": {
     "languageId": "plaintext"
    }
   },
   "outputs": [],
   "source": [
    "import numpy as np\n",
    "\n",
    "firstArray = np.emmpty([4,2], dtpe = np.uint16)\n",
    "\n",
    "print(firstArray)\n",
    "\n",
    "print(firstArray.shape)\n",
    "print(firstArray.ndim)\n",
    "print(firstArray.itemsize)\n",
    "\n",
    "\n",
    "\n"
   ]
  }
 ],
 "metadata": {
  "language_info": {
   "name": "python"
  }
 },
 "nbformat": 4,
 "nbformat_minor": 5
}
