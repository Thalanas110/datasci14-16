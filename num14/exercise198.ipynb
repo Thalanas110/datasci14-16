{
 "cells": [
  {
   "cell_type": "code",
   "execution_count": null,
   "id": "6e7768bf",
   "metadata": {},
   "outputs": [],
   "source": [
    "import numpy\n",
    "\n",
    "print(\"Printing Original array\")\n",
    "sampleArray = numpy.array([[34,43,73],[82,22,12],[53,94,66]])\n",
    "print (sampleArray)\n",
    "print(\"Array after deleting column 2 on axis 1\")\n",
    "sampleArray = numpy.delete(sampleArray , 1, axis = 1)\n",
    "print (sampleArray)\n",
    "arr = numpy.array([[10,10,10]])\n",
    "print(\"Array after inserting column 2 on axis 1\")\n",
    "sampleArray = numpy.insert(sampleArray , 1, arr, axis = 1)\n",
    "print (sampleArray)\n"
   ]
  }
 ],
 "metadata": {
  "kernelspec": {
   "display_name": ".venv (3.13.3)",
   "language": "python",
   "name": "python3"
  },
  "language_info": {
   "name": "python",
   "version": "3.13.3"
  }
 },
 "nbformat": 4,
 "nbformat_minor": 5
}
