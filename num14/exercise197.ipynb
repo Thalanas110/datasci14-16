{
 "cells": [
  {
   "cell_type": "code",
   "execution_count": null,
   "id": "784af2e3",
   "metadata": {
    "vscode": {
     "languageId": "plaintext"
    }
   },
   "outputs": [],
   "source": [
    "import numpy\n",
    "\n",
    "print(\"Printing Original array\")\n",
    "sampleArray = numpy.array([[34,43,73],[82,22,12],[53,94,66]])\n",
    "print (sampleArray)\n",
    "minOfAxisOne = numpy.amin(sampleArray, 1)\n",
    "print(\"Printing amin Of Axis 1\")\n",
    "print(minOfAxisOne)\n",
    "maxOfAxisOne = numpy.amax(sampleArray, 0)\n",
    "print(\"Printing amax Of Axis 0\")\n",
    "print(maxOfAxisOne)\n",
    "\n",
    "\n"
   ]
  }
 ],
 "metadata": {
  "language_info": {
   "name": "python"
  }
 },
 "nbformat": 4,
 "nbformat_minor": 5
}
