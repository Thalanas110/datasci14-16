{
 "cells": [
  {
   "cell_type": "code",
   "execution_count": null,
   "id": "fb2852c6",
   "metadata": {
    "vscode": {
     "languageId": "plaintext"
    }
   },
   "outputs": [],
   "source": [
    "import numpy as np\n",
    "\n",
    "sampleArray = np.array([[11 ,22, 33], [44, 55, 66], [77, 88, 99]])\n",
    "#print(sampleArray)\n",
    "new_array=sampleArray[...,2]\n",
    "print(new_array)\n"
   ]
  }
 ],
 "metadata": {
  "language_info": {
   "name": "python"
  }
 },
 "nbformat": 4,
 "nbformat_minor": 5
}
