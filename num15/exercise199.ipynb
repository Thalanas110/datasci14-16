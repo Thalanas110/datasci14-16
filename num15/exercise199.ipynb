{
 "cells": [
  {
   "cell_type": "code",
   "execution_count": null,
   "id": "43cfaf46",
   "metadata": {},
   "outputs": [],
   "source": [
    "import pandas as pd"
   ]
  },
  {
   "cell_type": "code",
   "execution_count": null,
   "id": "883b44c9",
   "metadata": {},
   "outputs": [],
   "source": [
    "df=pd.read_csv(\"iris_data.csv\")"
   ]
  },
  {
   "cell_type": "code",
   "execution_count": null,
   "id": "0d09a490",
   "metadata": {},
   "outputs": [],
   "source": [
    "df=df.drop(\"Id\", axis=1)"
   ]
  },
  {
   "cell_type": "code",
   "execution_count": null,
   "id": "5d6f3e6f",
   "metadata": {},
   "outputs": [],
   "source": [
    "df.head()"
   ]
  },
  {
   "cell_type": "code",
   "execution_count": null,
   "id": "d8137062",
   "metadata": {},
   "outputs": [],
   "source": [
    "df = df.rename(columns={\n",
    "\t\"SepalLengthCm\": \"sepal_length\",\n",
    "\t\"SepalWidthCm\": \"sepal_width\",\n",
    "\t\"PetalLengthCm\": \"petal_length\",\n",
    "\t\"PetalWidthCm\": \"petal_width\",\n",
    "\t\"Species\": \"species\"\n",
    "})"
   ]
  },
  {
   "cell_type": "code",
   "execution_count": null,
   "id": "7aa959ca",
   "metadata": {},
   "outputs": [],
   "source": [
    "df[\"species\"]=df[\"species\"].str.replace(\"Iris-\",\"\")"
   ]
  },
  {
   "cell_type": "code",
   "execution_count": null,
   "id": "f81a0631",
   "metadata": {},
   "outputs": [],
   "source": [
    "#shape of the table \n",
    "df.shape"
   ]
  },
  {
   "cell_type": "code",
   "execution_count": null,
   "id": "2e90e4f6",
   "metadata": {},
   "outputs": [],
   "source": [
    "# how many different species are there? \n",
    "df[\"species\"].nunique()"
   ]
  },
  {
   "cell_type": "code",
   "execution_count": null,
   "id": "f11f1b6c",
   "metadata": {},
   "outputs": [],
   "source": [
    "#how many time each species is repeated in given dataset \n",
    "df[\"species\"].value_counts() "
   ]
  },
  {
   "cell_type": "code",
   "execution_count": null,
   "id": "bd663f04",
   "metadata": {},
   "outputs": [],
   "source": [
    "#how many rows are there whose sepal length is greater than its mean \n",
    "(df[\"sepal_length\"]>df[\"sepal_length\"].mean()).sum() "
   ]
  },
  {
   "cell_type": "code",
   "execution_count": null,
   "id": "cda7eb07",
   "metadata": {},
   "outputs": [],
   "source": [
    "#extract all the rows whose petal width is greater than 1.5 and petal length is lesser t \n",
    "df[(df[\"petal_width\"]>1.5) & (df[\"petal_length\"]<5)] "
   ]
  },
  {
   "cell_type": "code",
   "execution_count": null,
   "id": "f101d2e1",
   "metadata": {},
   "outputs": [],
   "source": [
    "#which species has highest sepal length \n",
    " \n",
    "df[\"sepal_length\"].max() "
   ]
  },
  {
   "cell_type": "code",
   "execution_count": null,
   "id": "df0c03b5",
   "metadata": {},
   "outputs": [],
   "source": [
    "df[df[\"sepal_length\"]==df[\"sepal_length\"].max()] "
   ]
  },
  {
   "cell_type": "code",
   "execution_count": null,
   "id": "e7ba80e9",
   "metadata": {},
   "outputs": [],
   "source": [
    "df.groupby(\"species\").agg([\"mean\",\"median\"])"
   ]
  }
 ],
 "metadata": {
  "language_info": {
   "name": "python"
  }
 },
 "nbformat": 4,
 "nbformat_minor": 5
}
