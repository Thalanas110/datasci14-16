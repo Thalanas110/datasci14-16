{
 "cells": [
  {
   "cell_type": "code",
   "execution_count": null,
   "id": "43cfaf46",
   "metadata": {},
   "outputs": [],
   "source": [
    "import pandas as pd"
   ]
  },
  {
   "cell_type": "code",
   "execution_count": null,
   "id": "883b44c9",
   "metadata": {},
   "outputs": [],
   "source": [
    "df=pd.read_csv(\"iris_data.csv\")"
   ]
  },
  {
   "cell_type": "code",
   "execution_count": null,
   "id": "0d09a490",
   "metadata": {},
   "outputs": [],
   "source": [
    "df=df.drop(\"Id\", axis=1)"
   ]
  },
  {
   "cell_type": "code",
   "execution_count": null,
   "id": "5d6f3e6f",
   "metadata": {},
   "outputs": [],
   "source": [
    "df.head()"
   ]
  },
  {
   "cell_type": "code",
   "execution_count": null,
   "id": "d8137062",
   "metadata": {},
   "outputs": [],
   "source": [
    "df=df.rename(columns={Spe})"
   ]
  }
 ],
 "metadata": {
  "language_info": {
   "name": "python"
  }
 },
 "nbformat": 4,
 "nbformat_minor": 5
}
