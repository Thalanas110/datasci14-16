{
 "cells": [
  {
   "cell_type": "code",
   "execution_count": null,
   "id": "071c45aa",
   "metadata": {},
   "outputs": [],
   "source": [
    "import pandas as pd"
   ]
  },
  {
   "cell_type": "code",
   "execution_count": null,
   "id": "98082073",
   "metadata": {},
   "outputs": [],
   "source": [
    "df = pd.read_csv(\"Automobile_data.csv\", na_values={ \n",
    "'price':[\"?\",\"n.a\"], \n",
    "'stroke':[\"?\",\"n.a\"], \n",
    "'horsepower':[\"?\",\"n.a\"], \n",
    "'peak-rpm':[\"?\",\"n.a\"], \n",
    "'average-mileage':[\"?\",\"n.a\"]}) \n",
    " \n",
    "df "
   ]
  },
  {
   "cell_type": "code",
   "execution_count": null,
   "id": "fddbe8c0",
   "metadata": {},
   "outputs": [],
   "source": [
    "missing_value=[\"?\",\"n.a\",np.NaN] \n",
    "df=pd.read_csv(\"Automobile_data.csv\",na_values=missing_value) "
   ]
  },
  {
   "cell_type": "code",
   "execution_count": null,
   "id": "164e1e46",
   "metadata": {},
   "outputs": [],
   "source": [
    "df.isnull().sum()  "
   ]
  },
  {
   "cell_type": "code",
   "execution_count": null,
   "id": "810fcea8",
   "metadata": {},
   "outputs": [],
   "source": [
    "df.isnull().sum() "
   ]
  },
  {
   "cell_type": "code",
   "execution_count": null,
   "id": "836cfae6",
   "metadata": {},
   "outputs": [],
   "source": [
    "df=df.drop(\"index\",axis=1) "
   ]
  },
  {
   "cell_type": "code",
   "execution_count": null,
   "id": "417b953e",
   "metadata": {},
   "outputs": [],
   "source": [
    "df[\"price\"].max() "
   ]
  },
  {
   "cell_type": "code",
   "execution_count": null,
   "id": "90b9956e",
   "metadata": {},
   "outputs": [],
   "source": [
    "most_exp_car=df[[\"company\",\"price\"]][df.price==df[\"price\"].max()] \n",
    "most_exp_car "
   ]
  },
  {
   "cell_type": "code",
   "execution_count": null,
   "id": "ecc398de",
   "metadata": {},
   "outputs": [],
   "source": [
    "# 201\n",
    "df.groupby(\"company\").get_group(\"toyota\") "
   ]
  },
  {
   "cell_type": "code",
   "execution_count": null,
   "id": "522546e9",
   "metadata": {},
   "outputs": [],
   "source": [
    "# 202\n",
    "df[\"company\"].value_counts() "
   ]
  },
  {
   "cell_type": "code",
   "execution_count": null,
   "id": "936c96d0",
   "metadata": {},
   "outputs": [],
   "source": [
    "#  203\n",
    "import warnings \n",
    "warnings.filterwarnings(\"ignore\") "
   ]
  },
  {
   "cell_type": "code",
   "execution_count": null,
   "id": "fb977d47",
   "metadata": {},
   "outputs": [],
   "source": [
    "df.groupby(\"company\")[[\"company\",\"price\"]].max() "
   ]
  },
  {
   "cell_type": "code",
   "execution_count": null,
   "id": "13a90a59",
   "metadata": {},
   "outputs": [],
   "source": [
    "# 204\n",
    "df.groupby(\"company\")[[\"company\",\"average-mileage\"]].mean() "
   ]
  },
  {
   "cell_type": "code",
   "execution_count": null,
   "id": "e0a8d815",
   "metadata": {},
   "outputs": [],
   "source": [
    "# 205\n",
    "df.sort_values(\"price\",ascending=False) "
   ]
  },
  {
   "cell_type": "code",
   "execution_count": null,
   "id": "170f886a",
   "metadata": {},
   "outputs": [],
   "source": [
    "# 206\n",
    "GermanCars = {'Company': ['Ford', 'Mercedes', 'BMV', 'Audi'], 'Price': [23845, 171995, 13995, 174500]}\n",
    "japaneseCars = {'Company': ['Toyota', 'Honda', 'Nissan', 'Mitsubishi '], 'Price': [29995, 23600, 24000, 34900]}"
   ]
  },
  {
   "cell_type": "markdown",
   "id": "0920d4e3",
   "metadata": {},
   "source": []
  }
 ],
 "metadata": {
  "language_info": {
   "name": "python"
  }
 },
 "nbformat": 4,
 "nbformat_minor": 5
}
