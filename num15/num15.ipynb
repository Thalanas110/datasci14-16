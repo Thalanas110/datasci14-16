{
 "cells": [
  {
   "cell_type": "markdown",
   "id": "43620fbf",
   "metadata": {},
   "source": [
    "## Adriaan M. Dimate\n",
    "## BSCS 3-A\n",
    "## September 27, 2025\n",
    "## idk anymore when did I complete this\n"
   ]
  },
  {
   "cell_type": "markdown",
   "id": "b8176d82",
   "metadata": {},
   "source": [
    "Exercise 199"
   ]
  },
  {
   "cell_type": "markdown",
   "id": "335b38a2",
   "metadata": {},
   "source": [
    "# Iris dataset"
   ]
  },
  {
   "cell_type": "code",
   "execution_count": null,
   "id": "43cfaf46",
   "metadata": {},
   "outputs": [],
   "source": [
    "import pandas as pd"
   ]
  },
  {
   "cell_type": "code",
   "execution_count": null,
   "id": "883b44c9",
   "metadata": {},
   "outputs": [],
   "source": [
    "df=pd.read_csv(\"iris_data.csv\")"
   ]
  },
  {
   "cell_type": "code",
   "execution_count": null,
   "id": "0d09a490",
   "metadata": {},
   "outputs": [],
   "source": [
    "df=df.drop(\"Id\", axis=1)"
   ]
  },
  {
   "cell_type": "code",
   "execution_count": null,
   "id": "5d6f3e6f",
   "metadata": {},
   "outputs": [],
   "source": [
    "df.head()"
   ]
  },
  {
   "cell_type": "code",
   "execution_count": null,
   "id": "d8137062",
   "metadata": {},
   "outputs": [],
   "source": [
    "# rename the column name\n",
    "df=df.rename(columns={\"SepalLengthCm\":\"sepal_length\",\"SepalWidthCm\":\"sepal_width\",\n",
    "\n",
    "\"PetalLengthCm\":\"petal_length\",\"PetalWidthCm\":\"petal_width\",\"Species\":\"species\"})"
   ]
  },
  {
   "cell_type": "code",
   "execution_count": null,
   "id": "7aa959ca",
   "metadata": {},
   "outputs": [],
   "source": [
    "df[\"species\"]=df[\"species\"].str.replace(\"Iris-\",\"\")"
   ]
  },
  {
   "cell_type": "code",
   "execution_count": null,
   "id": "f81a0631",
   "metadata": {},
   "outputs": [],
   "source": [
    "#shape of the table \n",
    "df.shape"
   ]
  },
  {
   "cell_type": "code",
   "execution_count": null,
   "id": "2e90e4f6",
   "metadata": {},
   "outputs": [],
   "source": [
    "# how many different species are there? \n",
    "df[\"species\"].nunique()"
   ]
  },
  {
   "cell_type": "code",
   "execution_count": null,
   "id": "f11f1b6c",
   "metadata": {},
   "outputs": [],
   "source": [
    "#how many time each species is repeated in given dataset \n",
    "df[\"species\"].value_counts() "
   ]
  },
  {
   "cell_type": "code",
   "execution_count": null,
   "id": "bd663f04",
   "metadata": {},
   "outputs": [],
   "source": [
    "#how many rows are there whose sepal length is greater than its mean \n",
    "(df[\"sepal_length\"]>df[\"sepal_length\"].mean()).sum() "
   ]
  },
  {
   "cell_type": "code",
   "execution_count": null,
   "id": "cda7eb07",
   "metadata": {},
   "outputs": [],
   "source": [
    "#extract all the rows whose petal width is greater than 1.5 and petal length is lesser t \n",
    "df[(df[\"petal_width\"]>1.5) & (df[\"petal_length\"]<5)] "
   ]
  },
  {
   "cell_type": "code",
   "execution_count": null,
   "id": "f101d2e1",
   "metadata": {},
   "outputs": [],
   "source": [
    "#which species has highest sepal length \n",
    " \n",
    "df[\"sepal_length\"].max() "
   ]
  },
  {
   "cell_type": "code",
   "execution_count": null,
   "id": "df0c03b5",
   "metadata": {},
   "outputs": [],
   "source": [
    "df[df[\"sepal_length\"]==df[\"sepal_length\"].max()] "
   ]
  },
  {
   "cell_type": "code",
   "execution_count": null,
   "id": "e7ba80e9",
   "metadata": {},
   "outputs": [],
   "source": [
    "df.groupby(\"species\").agg([\"mean\",\"median\"])"
   ]
  },
  {
   "cell_type": "markdown",
   "id": "c64b2fe8",
   "metadata": {},
   "source": [
    "Exercise 200"
   ]
  },
  {
   "cell_type": "markdown",
   "id": "cf02bfcc",
   "metadata": {},
   "source": [
    "# Automobiles"
   ]
  },
  {
   "cell_type": "code",
   "execution_count": null,
   "id": "b0240ab3",
   "metadata": {},
   "outputs": [],
   "source": [
    "import pandas as pd"
   ]
  },
  {
   "cell_type": "code",
   "execution_count": null,
   "id": "57dc0f83",
   "metadata": {},
   "outputs": [],
   "source": [
    "df = pd.read_csv(\"Automobile_data.csv\", na_values={\n",
    "'price':[\"?\",\"n.a\"],\n",
    "'stroke':[\"?\",\"n.a\"],\n",
    "'horsepower':[\"?\",\"n.a\"],\n",
    "'peak-rpm':[\"?\",\"n.a\"],\n",
    "'average-mileage':[\"?\",\"n.a\"]})\n",
    "df"
   ]
  },
  {
   "cell_type": "code",
   "execution_count": null,
   "id": "58531503",
   "metadata": {},
   "outputs": [],
   "source": [
    "missing_value=[\"?\",\"n.a\",np.NaN] \n",
    "df=pd.read_csv(\"Automobile_data.csv\",na_values=missing_value) "
   ]
  },
  {
   "cell_type": "code",
   "execution_count": null,
   "id": "840ae8d5",
   "metadata": {},
   "outputs": [],
   "source": [
    "df.isnull().sum()  "
   ]
  },
  {
   "cell_type": "code",
   "execution_count": null,
   "id": "9064f4e4",
   "metadata": {},
   "outputs": [],
   "source": [
    "df=df.drop(\"index\",axis=1) "
   ]
  },
  {
   "cell_type": "markdown",
   "id": "41c0ba15",
   "metadata": {},
   "source": [
    "most expensive car company name"
   ]
  },
  {
   "cell_type": "code",
   "execution_count": null,
   "id": "a76afc43",
   "metadata": {},
   "outputs": [],
   "source": [
    "df[\"price\"].max() "
   ]
  },
  {
   "cell_type": "code",
   "execution_count": null,
   "id": "bf69fae1",
   "metadata": {},
   "outputs": [],
   "source": [
    "most_exp_car=df[[\"company\",\"price\"]][df.price==df[\"price\"].max()] \n",
    "most_exp_car "
   ]
  },
  {
   "cell_type": "markdown",
   "id": "b3969df0",
   "metadata": {},
   "source": [
    "Exercise 201"
   ]
  },
  {
   "cell_type": "code",
   "execution_count": null,
   "id": "d32709c2",
   "metadata": {},
   "outputs": [],
   "source": [
    "df.groupby(\"company\").get_group(\"toyota\") "
   ]
  },
  {
   "cell_type": "markdown",
   "id": "764d16a4",
   "metadata": {},
   "source": [
    "Exercise 202"
   ]
  },
  {
   "cell_type": "code",
   "execution_count": null,
   "id": "469fc605",
   "metadata": {},
   "outputs": [],
   "source": [
    "df[\"company\"].value_counts() "
   ]
  },
  {
   "cell_type": "markdown",
   "id": "db081767",
   "metadata": {},
   "source": [
    "Exercise 203"
   ]
  },
  {
   "cell_type": "code",
   "execution_count": null,
   "id": "6528ddde",
   "metadata": {},
   "outputs": [],
   "source": [
    "import warnings \n",
    "warnings.filterwarnings(\"ignore\") "
   ]
  },
  {
   "cell_type": "code",
   "execution_count": null,
   "id": "02314a82",
   "metadata": {},
   "outputs": [],
   "source": [
    "df.groupby(\"company\")[[\"company\",\"price\"]].max() "
   ]
  },
  {
   "cell_type": "markdown",
   "id": "05a00bb2",
   "metadata": {},
   "source": [
    "Excercise 204"
   ]
  },
  {
   "cell_type": "code",
   "execution_count": null,
   "id": "a3f446fb",
   "metadata": {},
   "outputs": [],
   "source": [
    "df.groupby(\"company\")[[\"average-mileage\"]].mean()"
   ]
  },
  {
   "cell_type": "markdown",
   "id": "a2f424a9",
   "metadata": {},
   "source": [
    "Exercise 205"
   ]
  },
  {
   "cell_type": "code",
   "execution_count": null,
   "id": "a57aa928",
   "metadata": {},
   "outputs": [],
   "source": [
    "df.sort_values(\"price\",ascending=False)"
   ]
  },
  {
   "cell_type": "markdown",
   "id": "112d02f6",
   "metadata": {},
   "source": [
    "Exercise 206"
   ]
  },
  {
   "cell_type": "code",
   "execution_count": null,
   "id": "7a2731dd",
   "metadata": {},
   "outputs": [],
   "source": [
    "GermanCars = {'company': ['Ford', 'Mercedes', 'BMV', 'Audi'], 'Price': [23845, 171995, 135925 , 71400]}\n",
    "japaneseCars = {'company': ['Toyota', 'Honda', 'Nissan', 'Mitsubishi '], 'Price': [29995, 23600, 61500 , 58900]}"
   ]
  },
  {
   "cell_type": "code",
   "execution_count": null,
   "id": "7c2ff1e3",
   "metadata": {},
   "outputs": [],
   "source": [
    "germanCar=pd.DataFrame.from_dict(GermanCars)\n",
    "germanCar"
   ]
  },
  {
   "cell_type": "code",
   "execution_count": null,
   "id": "7faeaa43",
   "metadata": {},
   "outputs": [],
   "source": [
    "japaneseCar=pd.DataFrame.from_dict(japaneseCars)\n",
    "japaneseCar"
   ]
  },
  {
   "cell_type": "code",
   "execution_count": null,
   "id": "74d1c332",
   "metadata": {},
   "outputs": [],
   "source": [
    "carsDF=pd.concat([germanCar,japaneseCar],keys=[\"germany\",\"Japan\"])\n",
    "carsDF"
   ]
  },
  {
   "cell_type": "markdown",
   "id": "d0ad5d7a",
   "metadata": {},
   "source": [
    "Exercise 207"
   ]
  },
  {
   "cell_type": "code",
   "execution_count": null,
   "id": "f98a0dc1",
   "metadata": {},
   "outputs": [],
   "source": [
    "Car_Price = {'company': ['Toyota', 'Honda', 'BMV', 'Audi'], 'Price': [23845, 17995, 135925 , 71400]}\n",
    "car_Horsepower = {'company': ['Toyota', 'Honda', 'BMV', 'Audi'], 'horsepower': [141, 80, 182 , 160]}"
   ]
  },
  {
   "cell_type": "code",
   "execution_count": null,
   "id": "59481049",
   "metadata": {},
   "outputs": [],
   "source": [
    "carHorsepower=pd.DataFrame.from_dict(car_Horsepower)\n",
    "carHorsepower"
   ]
  },
  {
   "cell_type": "code",
   "execution_count": null,
   "id": "aeee7a5d",
   "metadata": {},
   "outputs": [],
   "source": [
    "carsDF=pd.merge(carPrice,carHorsepower,on=\"company\")\n",
    "carsDF"
   ]
  }
 ],
 "metadata": {
  "language_info": {
   "name": "python"
  }
 },
 "nbformat": 4,
 "nbformat_minor": 5
}
